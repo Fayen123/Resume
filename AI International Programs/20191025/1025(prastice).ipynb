{
 "cells": [
  {
   "cell_type": "code",
   "execution_count": 2,
   "metadata": {},
   "outputs": [],
   "source": [
    "import numpy as np\n",
    "import pandas as pd\n",
    "import matplotlib.pyplot as plt"
   ]
  },
  {
   "cell_type": "code",
   "execution_count": 51,
   "metadata": {},
   "outputs": [],
   "source": [
    "def meanX(dataX):\n",
    "    return np.mean(dataX,axis=0)"
   ]
  },
  {
   "cell_type": "code",
   "execution_count": 52,
   "metadata": {},
   "outputs": [],
   "source": [
    "def variance(X):\n",
    "    m, n = np.shape(X)   #m,n为X的行数和列数\n",
    "    mu = meanX(X)\n",
    "    muAll = np.tile(mu, (m, 1))   #把均值变成 m行，1列的矩阵\n",
    "    X1 = X - muAll              #原矩阵-均值矩阵\n",
    "    variance = 1./m * np.diag(X1.T * X1)  #np.diag提取一个二位数组的对角元素，形成一维数组\n",
    "    return variance"
   ]
  },
  {
   "cell_type": "code",
   "execution_count": 53,
   "metadata": {},
   "outputs": [],
   "source": [
    "def normalize(X):\n",
    "    m, n = np.shape(X)\n",
    "    mu = meanX(X)\n",
    "    muAll = np.tile(mu, (m, 1))\n",
    "    X1 = X - muAll\n",
    "    X2 = np.tile(np.diag(X.T * X), (m, 1))\n",
    "    XNorm = X1/X2\n",
    "    return XNorm"
   ]
  },
  {
   "cell_type": "code",
   "execution_count": 54,
   "metadata": {},
   "outputs": [],
   "source": [
    "def pca(XMat, k):\n",
    "    average = meanX(XMat)\n",
    "    m, n = np.shape(XMat)\n",
    "    data_adjust = []\n",
    "    avgs = np.tile(average, (m,1))\n",
    "    data_adjust = XMat - avgs\n",
    "    covX = np.cov(data_adjust.T)   #计算协方差矩阵\n",
    "    featValue, featVec = np.linalg.eig(covX) #求解协方差矩阵的特征值\n",
    "    index = np.argsort(-featValue)   #按照featValue进行从大到小排序\n",
    "    finalData = []\n",
    "    if k > n:\n",
    "        print('k must lower than feature number')\n",
    "        return\n",
    "    else:\n",
    "        #注意特征向量时列向量，而numpy的二维矩阵(数组)a[m][n]中，a[1]表示第1行值\n",
    "        selectVec = np.matrix(featVec.T[index[:k]])   #这里进行转置\n",
    "        finalData = data_adjust * selectVec.T\n",
    "        reconData = (finalData * selectVec) + average\n",
    "    return finalData, reconData"
   ]
  },
  {
   "cell_type": "code",
   "execution_count": 65,
   "metadata": {},
   "outputs": [],
   "source": [
    "def loaddata(datafile):\n",
    "    return np.array(pd.read_csv(datafile)).astype(np.float)"
   ]
  },
  {
   "cell_type": "code",
   "execution_count": 66,
   "metadata": {},
   "outputs": [],
   "source": [
    "def plotBestFit(data1, data2):\n",
    "    dataArr1 = np.array(data1)\n",
    "    dataArr2 = np.array(data2)\n",
    "    \n",
    "    m = np.shape(dataArr1)[0]\n",
    "    axis_x1 = []\n",
    "    axis_y1 = []\n",
    "    axis_x2 = []\n",
    "    axis_y2 = []\n",
    "    for i in range(m):\n",
    "        axis_x1.append(dataArr1[i,0])    #表尾添加数据\n",
    "        axis_y1.append(dataArr1[i,1])\n",
    "        axis_x2.append(dataArr1[i,0])\n",
    "        axis_y2.append(dataArr1[i,1])\n",
    "    fig = plt.figure()\n",
    "    ax = fig.add_subplot(111)\n",
    "    ax.scatter(axis_x1, axis_y1, s=50, c='red', marker='s')\n",
    "    ax.scatter(axis_x2, axis_y2, s=50, c='blue')\n",
    "    plt.xlabel('x1');plt.ylabel('x2');\n",
    "    plt.savefig('outfile.png')\n",
    "    plt.show()"
   ]
  },
  {
   "cell_type": "code",
   "execution_count": 67,
   "metadata": {},
   "outputs": [],
   "source": [
    "def test():\n",
    "    X = [[2.5, 0.5, 2.2, 1.9, 3.1, 2.3, 2, 1, 1.5, 1.1],\n",
    "         [2.4, 0.7, 2.9, 2.2, 3.0, 2.7, 1.6, 1.1, 1.6, 0.9]]\n",
    "    XMat = np.matrix(X).T\n",
    "    k = 2\n",
    "    return pca(XMat, k)"
   ]
  },
  {
   "cell_type": "code",
   "execution_count": 68,
   "metadata": {},
   "outputs": [],
   "source": [
    "def main():\n",
    "    datafile = 'principal_component.csv'\n",
    "    XMat = loaddata(datafile)\n",
    "    k = 2\n",
    "    return pca(XMat, k)"
   ]
  },
  {
   "cell_type": "code",
   "execution_count": 69,
   "metadata": {},
   "outputs": [
    {
     "data": {
      "image/png": "[encoded data removed]",
      "text/plain": [
       "<Figure size 432x288 with 1 Axes>"
      ]
     },
     "metadata": {
      "needs_background": "light"
     },
     "output_type": "display_data"
    }
   ],
   "source": [
    "if __name__ == \"__main__\":\n",
    "    finalData, reconMat = main()\n",
    "    plotBestFit(finalData, reconMat)"
   ]
  },
  {
   "cell_type": "code",
   "execution_count": null,
   "metadata": {},
   "outputs": [],
   "source": []
  }
 ],
 "metadata": {
  "kernelspec": {
   "display_name": "Python 3",
   "language": "python",
   "name": "python3"
  },
  "language_info": {
   "codemirror_mode": {
    "name": "ipython",
    "version": 3
   },
   "file_extension": ".py",
   "mimetype": "text/x-python",
   "name": "python",
   "nbconvert_exporter": "python",
   "pygments_lexer": "ipython3",
   "version": "3.7.3"
  }
 },
 "nbformat": 4,
 "nbformat_minor": 2
}
